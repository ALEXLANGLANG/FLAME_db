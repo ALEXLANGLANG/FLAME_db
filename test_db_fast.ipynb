{
 "cells": [
  {
   "cell_type": "code",
   "execution_count": 1,
   "metadata": {},
   "outputs": [],
   "source": [
    "import numpy as np\n",
    "import pandas as pd\n",
    "from DAME_FLAME import *\n",
    "from new_db import FLAME_db_new\n",
    "from FLAME_db_orig import FLAME_db\n",
    "import numpy as np\n",
    "import pandas as pd\n",
    "import pyodbc\n",
    "import time\n",
    "import pickle\n",
    "import operator\n",
    "from operator import itemgetter\n",
    "from joblib import Parallel, delayed\n",
    "\n",
    "from sklearn import linear_model\n",
    "\n",
    "from sklearn.linear_model import Ridge\n",
    "from sklearn.tree import DecisionTreeRegressor\n",
    "from sklearn.model_selection import cross_val_score\n",
    "\n",
    "from sqlalchemy import create_engine\n",
    "from tqdm import tqdm\n",
    "import matplotlib.pyplot as plt\n",
    "import mysql.connector\n",
    "import psycopg2\n",
    "import sqlite3\n",
    "%matplotlib inline"
   ]
  },
  {
   "cell_type": "code",
   "execution_count": 3,
   "metadata": {},
   "outputs": [],
   "source": [
    "def connect_db(select_db, database_name, host, port, user, password, driver):\n",
    "    conn = None;\n",
    "    if select_db == \"MySQL\":\n",
    "        conn = mysql.connector.connect(host=host,\n",
    "                                        port=port,\n",
    "                                        user=user,\n",
    "                                        password=password,\n",
    "                                        database=database_name)\n",
    "    elif select_db == \"postgreSQL\":\n",
    "        conn = psycopg2.connect(host=host,\n",
    "                                port=port,\n",
    "                                user=user,\n",
    "                                password=password,\n",
    "                                database=database_name)\n",
    "        \n",
    "    elif select_db == \"Microsoft SQL server\":\n",
    "        conn = pyodbc.connect('DRIVER='+driver+\n",
    "                              '; SERVER='+host+\n",
    "                              ';DATABASE='+database_name+\n",
    "                              ';UID='+user+\n",
    "                              ';PWD='+ password)\n",
    "    else:\n",
    "        raise Exception(\"please select the database you are using \"\\\n",
    "                        \"frame in parameter 'input_data'\")\n",
    "\n",
    "    cur = conn.cursor()\n",
    "    return cur,conn\n",
    "\n",
    "def insert_data_to_db(table_name,data,treatment_column_name,outcome_column_name,\n",
    "                      select_db,database_name,host,user,password,port = None,driver = None):\n",
    "    \n",
    "    table = table_name\n",
    "    cur,conn = connect_db(select_db = select_db, database_name=database_name, host = host, \n",
    "                       port = port, user=user, password= password,driver = driver)\n",
    "\n",
    "\n",
    "    data['matched'] = [0]*data.shape[0]\n",
    "    colnames = data.columns\n",
    "    cur.execute('drop table if exists {}'.format(table))\n",
    "\n",
    "\n",
    "    col_setup =\"\"\n",
    "    for i in range(len(colnames)):\n",
    "        v = colnames[i]\n",
    "        if v == outcome_column_name:\n",
    "            col_setup += v + ' float(53)'\n",
    "        else :\n",
    "            col_setup += v + ' int'\n",
    "        if i != len(colnames) - 1:\n",
    "            col_setup += ','\n",
    "    cur.execute('CREATE TABLE ' + table +  '('+ col_setup+');')\n",
    "\n",
    "    for i in range(data.shape[0]):\n",
    "        col = ','.join(['{0}'.format(v) for v in colnames])\n",
    "        values = ','.join(['{0}'.format(v) for v in data.iloc[i]])\n",
    "        cur.execute('INSERT INTO '+  table +'('+ col +') VALUES (' + values + ')')\n",
    "        \n",
    "    conn.commit()\n",
    "    print('Insert {} rows successfully to Database'.format(data.shape[0]))\n",
    "    \n",
    "    \n",
    "def ATE_db(res_post):\n",
    "    MG_weight = 0\n",
    "    MG_weight_total = 0\n",
    "    ATE_total = 0\n",
    "    for i in range(len(res_post[1])):\n",
    "        if type((res_post[1][i])) != type(None):  \n",
    "            MGs = res_post[1][i]\n",
    "            for j in range(MGs.shape[0]):\n",
    "                MG = MGs.iloc[j]\n",
    "                MG_weight = MG['count_c'] + MG['count_t']\n",
    "                ATE_total += MG_weight* (MG['effect_t'] - MG['effect_c'])\n",
    "                MG_weight_total += MG_weight\n",
    "\n",
    "    ATE = ATE_total/MG_weight_total           \n",
    "    return ATE"
   ]
  },
  {
   "cell_type": "code",
   "execution_count": 4,
   "metadata": {},
   "outputs": [],
   "source": [
    "def gen_data_db(n = 250,p = 5, TE = 1):\n",
    "    if p <= 2:\n",
    "        print(\"p should be larger than 2\")\n",
    "        return None\n",
    "\n",
    "    covs = np.random.binomial(1,0.5,size=(n,p))\n",
    "    treated = np.random.binomial(1, 0.5, size = n)\n",
    "    outcome = 15 * covs[:, 1] - 10 * covs[:, 2] + 5 * covs[:, 3] + TE * treated + np.random.normal(size = n)\n",
    "\n",
    "    data = np.append(covs, treated.reshape(-1,1), axis=1)\n",
    "    data = np.append(data, outcome.reshape(-1,1), axis=1)\n",
    "    col_names = ['cov' + str(i+1) for i in range(p)] + ['Treated', 'outcome123']\n",
    "    data = pd.DataFrame(data)\n",
    "    data.columns = col_names \n",
    "    return data\n",
    "\n",
    "def gen_data_neg(n = 250,p = 5, TE = 1,verbose = False):\n",
    "    n = int(n)\n",
    "    p = int(p)\n",
    "    if p <= 2:\n",
    "        print(\"p should be larger than 2\")\n",
    "        return None\n",
    "    covs = np.random.binomial(1,0.5,size=(n,p))\n",
    "    treated = np.random.binomial(1, 0.5, size = n)\n",
    "    outcome = np.random.normal(size = n) + TE *treated\n",
    "    for i in range(p):\n",
    "        if i % 3 == 0:\n",
    "            outcome += (-1)*covs[:,i]\n",
    "        else:\n",
    "            outcome += covs[:,i]\n",
    "\n",
    "            \n",
    "    data = np.append(covs, treated.reshape(-1,1), axis=1)\n",
    "    data = np.append(data, outcome.reshape(-1,1), axis=1)\n",
    "    col_names = ['cov' + str(i+1) for i in range(p)] + ['Treated', 'outcome123']\n",
    "    data = pd.DataFrame(data)\n",
    "    data.columns = col_names \n",
    "    return data    \n",
    "\n",
    "#Generate dataset with exponential and Power  Decay\n",
    "def gen_data_db_exp(n = 250,p = 5,TE = 1, verbose = True):\n",
    "    n = int(n)\n",
    "    p = int(p)\n",
    "    if p <= 2:\n",
    "        print(\"p should be larger than 2\")\n",
    "        return None\n",
    "    covs = np.random.binomial(1,0.5,size=(n,p))\n",
    "    treated = np.random.binomial(1, 0.5, size = n)\n",
    "    outcome = np.random.normal(size = n) + TE *treated\n",
    "    for i in range(p):\n",
    "        if verbose:\n",
    "            outcome += 5*(1/2)**(i+1)*covs[:,i]\n",
    "        else:\n",
    "            outcome += 5*(1/(i+1))*covs[:,i]\n",
    "            \n",
    "    data = np.append(covs, treated.reshape(-1,1), axis=1)\n",
    "    data = np.append(data, outcome.reshape(-1,1), axis=1)\n",
    "    col_names = ['cov' + str(i+1) for i in range(p)] + ['Treated', 'outcome123']\n",
    "    data = pd.DataFrame(data)\n",
    "    data.columns = col_names \n",
    "    return data\n",
    "\n",
    "\n",
    "def gen_data_db_intersection(n = 250,p = 5,TE = 1, verbose = True):\n",
    "    n = int(n)\n",
    "    p = int(p)\n",
    "    if p <= 2:\n",
    "        print(\"p should be larger than 2\")\n",
    "        return None\n",
    "    covs = np.random.binomial(1,0.5,size=(n,p))\n",
    "    treated = np.random.binomial(1, 0.5, size = n)\n",
    "    outcome = np.random.normal(size = n) + TE *treated\n",
    "    for i in range(p):\n",
    "        if i !=0:\n",
    "            outcome += covs[:,i]*covs[:,i-1]\n",
    "            \n",
    "    data = np.append(covs, treated.reshape(-1,1), axis=1)\n",
    "    data = np.append(data, outcome.reshape(-1,1), axis=1)\n",
    "    col_names = ['cov' + str(i+1) for i in range(p)] + ['Treated', 'outcome123']\n",
    "    data = pd.DataFrame(data)\n",
    "    data.columns = col_names \n",
    "    return data\n"
   ]
  },
  {
   "cell_type": "code",
   "execution_count": null,
   "metadata": {
    "scrolled": true
   },
   "outputs": [
    {
     "name": "stderr",
     "output_type": "stream",
     "text": [
      "\r",
      "  0%|          | 0/1 [00:00<?, ?it/s]"
     ]
    },
    {
     "name": "stdout",
     "output_type": "stream",
     "text": [
      "Insert 1500000 rows successfully to Database\n",
      "Done Matching\n"
     ]
    },
    {
     "name": "stderr",
     "output_type": "stream",
     "text": [
      "100%|██████████| 1/1 [33:48<00:00, 2028.86s/it]\n",
      "  0%|          | 0/1 [00:00<?, ?it/s]"
     ]
    }
   ],
   "source": [
    "list_TE = [5.21]\n",
    "# list_TE = [0.1]\n",
    "# list_mysql_new = []\n",
    "# list_mysql = []\n",
    "list_post_new = []\n",
    "list_post = []\n",
    "list_bit = []\n",
    "list_post_new_time = []\n",
    "list_post_time = []\n",
    "list_bit_time = []\n",
    "list_micro_time = []\n",
    "list_micro = []\n",
    "n = 5000\n",
    "p = 30\n",
    "\n",
    "for j in range(2):\n",
    "    for p in tqdm([60]):\n",
    "    # list_n = [500,5000,10000]\n",
    "        list_n_ = [1.5e6] #from tqdm import tqdm\n",
    "        for n in list_n_:\n",
    "            for TE in list_TE:\n",
    "                data = gen_data_db_exp(n = n,p = p, TE = TE,verbose = False)\n",
    "                holdout = gen_data_db_exp(n = 3000,p = p, TE = TE,verbose = False)\n",
    "\n",
    "                insert_data_to_db(\"test_df\", # The name of your table containing the dataset to be matched\n",
    "                                    data, \n",
    "                                    treatment_column_name= \"Treated\",\n",
    "                                    outcome_column_name= 'outcome123',\n",
    "                                    select_db = \"postgreSQL\",  # Select the database you are using\n",
    "                                    database_name='tmp', # database name\n",
    "                                    host = \"localhost\",\n",
    "                                    port = \"5432\",\n",
    "                                    user=\"newuser\",\n",
    "                                    password= \"sunxian123\")\n",
    "\n",
    "#                 insert_data_to_db( \"test_df\", # The name of your table containing the dataset to be matched\n",
    "#                         data, \n",
    "#                         treatment_column_name= \"Treated\",\n",
    "#                         outcome_column_name= 'outcome123',\n",
    "#                         select_db = \"Microsoft SQL server\",  # Select the database you are using\n",
    "#                         database_name='tmp', # database name\n",
    "#                         host = \"localhost\",\n",
    "#                         user=\"sa\",\n",
    "#                         password= 'reallyStrongPwd123',\n",
    "#                         driver = '/usr/local/lib/libmsodbcsql.17.dylib'\n",
    "#                       )\n",
    "\n",
    "#                 s = time.time()\n",
    "    #             res_post = FLAME_db(input_data = \"test_df\", # The name of your table containing the dataset to be matched\n",
    "    #                             holdout_data = holdout, # holdout set\n",
    "    #                             treatment_column_name= \"Treated\",\n",
    "    #                             outcome_column_name= 'outcome123',\n",
    "    #                             reg_param = 0, # reg_param*(num_treated_MG/total_treated  + num_control_MG/total_control)\n",
    "    #                             select_db = \"postgreSQL\",  # Select the database you are using\n",
    "    #                             database_name='tmp', # database name\n",
    "    #                             host = \"localhost\",\n",
    "    #                             port = \"5432\",\n",
    "    #                             user=\"newuser\",\n",
    "    #                             password= \"sunxian123\")\n",
    "    #             list_post_time.append(time.time() - s)\n",
    "#                 res_micro = FLAME_db_new(input_data = \"test_df\", # The name of your table containing the dataset to be matched\n",
    "#                                 holdout_data = holdout, # holdout set\n",
    "#                                 treatment_column_name= \"Treated\",\n",
    "#                                 outcome_column_name= 'outcome123',\n",
    "#                                 reg_param = 0,\n",
    "#                                 select_db = \"Microsoft SQL server\",  # Select the database you are using\n",
    "#                                 database_name='tmp', # database name\n",
    "#                                 host = \"localhost\",\n",
    "#                                 user=\"sa\",\n",
    "#                                 password= 'reallyStrongPwd123',\n",
    "#                                 driver = '/usr/local/lib/libmsodbcsql.17.dylib'\n",
    "#                                 )\n",
    "#                 list_micro_time.append(time.time() - s)\n",
    "                s = time.time()\n",
    "                res_post_new = FLAME_db_new(input_data = \"test_df\", # The name of your table containing the dataset to be matched\n",
    "                                holdout_data = holdout, # holdout set\n",
    "                                treatment_column_name= \"Treated\",\n",
    "                                outcome_column_name= 'outcome123',\n",
    "                                reg_param = 0,\n",
    "                                select_db = \"postgreSQL\",  # Select the database you are using\n",
    "                                database_name='tmp', # database name\n",
    "                                host = \"localhost\",\n",
    "                                port = \"5432\",\n",
    "                                user=\"newuser\",\n",
    "                                password= \"sunxian123\")\n",
    "                list_post_new_time.append(time.time() - s)\n",
    "\n",
    "\n",
    "    #             ate_post = ATE_db(res_post) - TE\n",
    "                ate_post_new = ATE_db(res_post_new) - TE\n",
    "#                 ate_micro = ATE_db(res_micro) - TE\n",
    "\n",
    "                list_post_new.append(ate_post_new)\n",
    "#                 list_micro.append(ate_micro )\n",
    "    #             list_post.append(ate_post)\n",
    "\n"
   ]
  },
  {
   "cell_type": "code",
   "execution_count": 26,
   "metadata": {},
   "outputs": [
    {
     "name": "stdout",
     "output_type": "stream",
     "text": [
      "[41.055094957351685, 86.73369789123535, 178.7235288619995]\n",
      "[41.50398588180542, 151.28012895584106, 291.8286249637604]\n"
     ]
    }
   ],
   "source": [
    "print(list_post_new_time)\n",
    "print(list_micro_time)"
   ]
  },
  {
   "cell_type": "code",
   "execution_count": 27,
   "metadata": {},
   "outputs": [
    {
     "name": "stdout",
     "output_type": "stream",
     "text": [
      "[0.004242599949422221, -0.01563105955316768, -0.004740521281409116]\n",
      "[0.004242599949422221, -0.015631059553166793, -0.0047405212814028985]\n"
     ]
    }
   ],
   "source": [
    "print(list_post_new)\n",
    "print(list_micro)"
   ]
  },
  {
   "cell_type": "code",
   "execution_count": 35,
   "metadata": {
    "scrolled": false
   },
   "outputs": [
    {
     "data": {
      "image/png": "[encoded data removed]",
      "text/plain": [
       "<Figure size 432x288 with 1 Axes>"
      ]
     },
     "metadata": {
      "needs_background": "light"
     },
     "output_type": "display_data"
    }
   ],
   "source": [
    "import matplotlib\n",
    "import matplotlib.pyplot as plt\n",
    "import numpy as np\n",
    "\n",
    "\n",
    "labels = ['Matching', 'Regression (PE)', 'time_BF', 'get_CATE', 'Update table']\n",
    "men_means = list(map(int, res_micro[0]))\n",
    "women_means = list(map(int, res_post_new[0]))\n",
    "s_means = [1, 2, 33,10, 2]\n",
    "x = np.arange(len(labels))  # the label locations\n",
    "width = 0.35  # the width of the bars\n",
    "\n",
    "fig, ax = plt.subplots()\n",
    "rects1 = ax.bar(x - width/2, men_means, width, label='Microsoft SQL')\n",
    "rects2 = ax.bar(x + width/2, women_means, width, label='postgreSQL')\n",
    "\n",
    "\n",
    "# Add some text for labels, title and custom x-axis tick labels, etc.\n",
    "ax.set_ylabel('Runing time')\n",
    "ax.set_title('Runing time for each parts for FLAME_db_fast')\n",
    "ax.set_xticks(x)\n",
    "ax.set_xticklabels(labels)\n",
    "ax.legend()\n",
    "\n",
    "\n",
    "def autolabel(rects):\n",
    "    \"\"\"Attach a text label above each bar in *rects*, displaying its height.\"\"\"\n",
    "    for rect in rects:\n",
    "        height = rect.get_height()\n",
    "        ax.annotate('{}'.format(height),\n",
    "                    xy=(rect.get_x() + rect.get_width() / 2, height),\n",
    "                    xytext=(0, 3),  # 3 points vertical offset\n",
    "                    textcoords=\"offset points\",\n",
    "                    ha='center', va='bottom')\n",
    "\n",
    "autolabel(rects1)\n",
    "autolabel(rects2)\n",
    "\n",
    "\n",
    "\n",
    "fig.tight_layout()\n",
    "\n",
    "plt.show()"
   ]
  },
  {
   "cell_type": "code",
   "execution_count": 77,
   "metadata": {
    "scrolled": true
   },
   "outputs": [],
   "source": [
    "# from matplotlib import pyplot as plt \n",
    "\n",
    "# for i in range(3):\n",
    "#     s =  i*10\n",
    "#     e =  10 + i*10\n",
    "#     plt.title(\"Dataset with \" + str(list_n[i]) + ' units and 30 covariates')\n",
    "#     plt.plot(list_TE, list_post_new[s:e],'-o', label = 'bd_fast')\n",
    "#     plt.plot(list_TE, list_post[s:e],'-o', label = 'db')\n",
    "#     plt.plot(list_TE,list_bit[s:e],'-o',label = 'bit' )\n",
    "#     plt.plot(list_TE,list_TE,'-o',label = 'True TE')\n",
    "#     plt.xlabel(\"True TE\")\n",
    "#     plt.ylabel(\"Estimated ATE\")\n",
    "#     plt.legend()\n",
    "#     plt.show()"
   ]
  },
  {
   "cell_type": "code",
   "execution_count": null,
   "metadata": {},
   "outputs": [],
   "source": []
  },
  {
   "cell_type": "code",
   "execution_count": 101,
   "metadata": {},
   "outputs": [],
   "source": [
    "\n",
    "# Some other example server values are\n",
    "# server = 'localhost\\sqlexpress' # for a named instance\n",
    "# server = 'myserver,port' # to specify an alternate port\n",
    "server = '127.0.0.1' \n",
    "database = 'tmp' \n",
    "username = 'sa' \n",
    "password = 'reallyStrongPwd123' \n",
    "conn = pyodbc.connect('DRIVER=/usr/local/lib/libmsodbcsql.17.dylib;SERVER='+server+';DATABASE='+database+';UID='+username+';PWD='+ password)\n",
    "cur = conn.cursor()\n",
    "# conn = pyodbc.connect(\"Driver={ODBC Driver 17 for SQL Server};\"\n",
    "#                     \"Server=localhost;\"\n",
    "#                     \"Database=tmp;\"\n",
    "#                     \"Trusted_Connection=yes;\")\n",
    "\n",
    "# cur = conn.cursor()\n",
    "\n",
    "# engine = create_engine('mssql+pyodbc://localhost/master?driver=SQL+Server+Native+Client+11.0')\n",
    "\n",
    "# df,betas,eff_coef = data_generation_dense_2(10000, 10000, 10, 5)\n",
    "# holdout_df,_,_ = data_generation_dense_2(10000, 10000, 10, 5)\n",
    "# db_name = 'db'\n",
    "# cur.execute('drop table if exists {}'.format(db_name))\n",
    "# conn.commit()\n",
    "\n",
    "# df.to_sql(db_name, engine)\n",
    "\n",
    "# res = run_db(db_name, holdout_df, 15)\n",
    "# pickle.dump(res, open('FLAME-db-result', 'wb'))\n",
    "# ## --above is an example"
   ]
  },
  {
   "cell_type": "code",
   "execution_count": 9,
   "metadata": {},
   "outputs": [],
   "source": [
    "TE = 5.21\n",
    "data = gen_data_db_exp(n = 1000,p = 30, TE = TE,verbose = False)\n",
    "holdout = gen_data_db_exp(n = 1000,p = 30, TE = TE,verbose = False)\n"
   ]
  },
  {
   "cell_type": "code",
   "execution_count": 12,
   "metadata": {},
   "outputs": [
    {
     "name": "stdout",
     "output_type": "stream",
     "text": [
      "Insert 1000 rows successfully to Database\n"
     ]
    }
   ],
   "source": [
    "insert_data_to_db( \"test_df\", # The name of your table containing the dataset to be matched\n",
    "                    data, # holdout set\n",
    "                    treatment_column_name= \"Treated\",\n",
    "                    outcome_column_name= 'outcome123',\n",
    "                    select_db = \"Microsoft SQL server\",  # Select the database you are using\n",
    "                    database_name='tmp', # database name\n",
    "                    host = \"localhost\",\n",
    "                    user=\"sa\",\n",
    "                    password= 'reallyStrongPwd123',\n",
    "                    driver = '/usr/local/lib/libmsodbcsql.17.dylib'\n",
    "                  )"
   ]
  },
  {
   "cell_type": "code",
   "execution_count": null,
   "metadata": {},
   "outputs": [],
   "source": [
    "server = '127.0.0.1' \n",
    "database = 'tmp' \n",
    "username = 'sa' \n",
    "driver =' /usr/local/lib/libmsodbcsql.17.dylib'\n",
    "password = 'reallyStrongPwd123' \n",
    "conn = pyodbc.connect('DRIVER='+driver+'; SERVER='+host+';DATABASE='+database_name+';UID='+user+';PWD='+ password)\n",
    "cur = conn.cursor()"
   ]
  },
  {
   "cell_type": "code",
   "execution_count": 13,
   "metadata": {
    "scrolled": true
   },
   "outputs": [
    {
     "name": "stdout",
     "output_type": "stream",
     "text": [
      "Done Matching\n"
     ]
    }
   ],
   "source": [
    " res = FLAME_db_new(input_data = \"test_df\", # The name of your table containing the dataset to be matched\n",
    "            holdout_data = holdout, # holdout set\n",
    "            treatment_column_name= \"Treated\",\n",
    "            outcome_column_name= 'outcome123',\n",
    "            reg_param = 0,\n",
    "            select_db = \"Microsoft SQL server\",  # Select the database you are using\n",
    "            database_name='tmp', # database name\n",
    "            host = \"localhost\",\n",
    "            user=\"sa\",\n",
    "            password= 'reallyStrongPwd123',\n",
    "            driver = '/usr/local/lib/libmsodbcsql.17.dylib'\n",
    "            )\n"
   ]
  },
  {
   "cell_type": "code",
   "execution_count": 48,
   "metadata": {},
   "outputs": [
    {
     "data": {
      "text/plain": [
       "array([0.12604214, 0.00951188, 0.00354839, 0.00129536])"
      ]
     },
     "execution_count": 48,
     "metadata": {},
     "output_type": "execute_result"
    }
   ],
   "source": [
    "e_fast = abs(np.array([0.03501655, \n",
    "0.00820785,\n",
    "0.0000559698703179734,\n",
    "0.0000142013468701248,\n",
    "])) +  abs(np.array([0.029875616853710873,\n",
    "-0.013223077167201502, \n",
    "0.0014885824719579333,\n",
    "-0.00019830572118006984\n",
    "])) + abs(np.array([0.0203053701493916, \n",
    "0.027673826272817337, \n",
    "-0.0005668120016588674,\n",
    "0.0022254319492249763,\n",
    "]))\n",
    "+abs(np.array([-0.1260421432627501, \n",
    "-0.009511875621776689, \n",
    "-0.0035483864180783087,\n",
    "0.0012953631576486657\n",
    "]))\n",
    "\n",
    "e_ = abs(np.array([0.0122997 ,\n",
    " 0.00328512,\n",
    "-0.0006968287666406781,\n",
    "-0.0000942013468701248\n",
    "])) +  abs(np.array([0.017350532622314674,\n",
    "-0.0036441326842826527, \n",
    "-0.000697328603834535,\n",
    "-0.00009939690204241458\n",
    "])) + abs(np.array([0.024171848666521, \n",
    "0.004106038173197213, \n",
    "-0.0030819709005349694,\n",
    "0.0029325616806605836\n",
    "]))\n",
    "+abs(np.array([-0.10629171305673601, \n",
    "-0.014596269349462787, \n",
    "0.001312882734850973,\n",
    "-0.0008981416653544017\n",
    "]))"
   ]
  },
  {
   "cell_type": "code",
   "execution_count": 58,
   "metadata": {},
   "outputs": [
    {
     "data": {
      "image/png": "[encoded data removed]",
      "text/plain": [
       "<Figure size 432x288 with 1 Axes>"
      ]
     },
     "metadata": {
      "needs_background": "light"
     },
     "output_type": "display_data"
    }
   ],
   "source": [
    "t_fast = abs(np.array([-0.0001299598569461935, -0.0021253649629819904, 0.004300130493249732, 0.0012241595697277674]))\n",
    "\n",
    "t_ = abs(np.array([-0.00012995985694796985, -0.0009790183047995171, -0.00021286750024707146, 0.0006411862134410029]))\n",
    "\n",
    "p_ = [10,30,60,90]\n",
    "plt.title(\"P vs. Error\")\n",
    "plt.plot(p_, t_fast,'--o', label = 'db_fast')\n",
    "plt.plot(p_, t_ ,'--o', label = 'db')\n",
    "plt.xlabel(\"P (the number of covs)\")\n",
    "plt.ylabel(\"Error\")\n",
    "plt.legend()\n",
    "plt.show()"
   ]
  },
  {
   "cell_type": "code",
   "execution_count": 49,
   "metadata": {},
   "outputs": [
    {
     "data": {
      "image/png": "[encoded data removed]",
      "text/plain": [
       "<Figure size 432x288 with 1 Axes>"
      ]
     },
     "metadata": {
      "needs_background": "light"
     },
     "output_type": "display_data"
    }
   ],
   "source": [
    "\n",
    "p_ = [1e4,1e5,1e6,1e7]\n",
    "plt.title(\"The number of units vs. Average Error\")\n",
    "plt.plot(p_, e_fast/4,'--o', label = 'db_fast')\n",
    "plt.plot(p_, e_/4 ,'--o', label = 'db')\n",
    "plt.xlabel(\"The number of units\")\n",
    "plt.ylabel(\"Error\")\n",
    "plt.legend()\n",
    "plt.show()"
   ]
  },
  {
   "cell_type": "code",
   "execution_count": 51,
   "metadata": {},
   "outputs": [
    {
     "data": {
      "text/plain": [
       "array([   54.5623281 ,   145.26342797,  1393.27389503, 26490.64203072])"
      ]
     },
     "execution_count": 51,
     "metadata": {},
     "output_type": "execute_result"
    }
   ],
   "source": [
    "t_fast = abs(np.array([3.7937862873077393,\n",
    " 19.2962429523468,\n",
    " 246.541766166687,\n",
    " 4990.943213701248])) \n",
    "+  abs(np.array([3.8023087978363037, \n",
    "20.09614610671997, \n",
    "341.06010031700134,\n",
    "4948.775732040405\n",
    "])) + abs(np.array([\n",
    "3.93350887298584,\n",
    "20.934993982315063, \n",
    "294.44100403785706,\n",
    "4989.798572063446\n",
    "]))\n",
    "+abs(np.array([4.312711954116821, \n",
    "29.569446802139282, \n",
    "232.06820607185364,\n",
    "5292.586167097092\n",
    "]))\n",
    "\n",
    "t__ = abs(np.array([\n",
    "44.438103914260864,\n",
    " 137.841717004776,\n",
    " 1305.0056025981903,\n",
    " 25284.803201198578])) \n",
    "+  abs(np.array([39.92817807197571,\n",
    "136.60494208335876, \n",
    "1515.5449929237366,\n",
    "23662.778589963913\n",
    "])) \n",
    "+ abs(np.array([41.58702111244202, \n",
    "143.11609768867493, \n",
    "1360.463859319687,\n",
    "25174.8752989769\n",
    "]))\n",
    "+abs(np.array([54.56232810020447, \n",
    "145.26342797279358, \n",
    "1393.2738950252533,\n",
    "26490.64203071594\n",
    "]))"
   ]
  },
  {
   "cell_type": "code",
   "execution_count": 54,
   "metadata": {},
   "outputs": [
    {
     "data": {
      "image/png": "[encoded data removed]",
      "text/plain": [
       "<Figure size 432x288 with 1 Axes>"
      ]
     },
     "metadata": {
      "needs_background": "light"
     },
     "output_type": "display_data"
    }
   ],
   "source": [
    "\n",
    "p_ = [1e4,1e5,1e6,1e7]\n",
    "plt.title(\"The number of units vs. Runing Time\")\n",
    "plt.plot(p_, t_fast/4,'--o', label = 'db_fast')\n",
    "plt.plot(p_, t__/4 ,'--o', label = 'db')\n",
    "plt.xlabel(\"the number of units\")\n",
    "plt.ylabel(\"Runing time\")\n",
    "plt.legend()\n",
    "plt.show()"
   ]
  },
  {
   "cell_type": "code",
   "execution_count": null,
   "metadata": {},
   "outputs": [],
   "source": []
  }
 ],
 "metadata": {
  "kernelspec": {
   "display_name": "Python 3",
   "language": "python",
   "name": "python3"
  },
  "language_info": {
   "codemirror_mode": {
    "name": "ipython",
    "version": 3
   },
   "file_extension": ".py",
   "mimetype": "text/x-python",
   "name": "python",
   "nbconvert_exporter": "python",
   "pygments_lexer": "ipython3",
   "version": "3.8.3"
  }
 },
 "nbformat": 4,
 "nbformat_minor": 4
}
