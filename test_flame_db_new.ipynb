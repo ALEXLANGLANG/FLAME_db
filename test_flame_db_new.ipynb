{
 "cells": [
  {
   "cell_type": "code",
   "execution_count": 1,
   "metadata": {
    "scrolled": true
   },
   "outputs": [],
   "source": [
    "import numpy as np\n",
    "import pandas as pd\n",
    "from gen_insert_data import insert_data_to_db\n",
    "from FLAME_db_algorithm import *\n",
    "from helpers import *\n",
    "from utils import *"
   ]
  },
  {
   "cell_type": "code",
   "execution_count": 2,
   "metadata": {},
   "outputs": [
    {
     "name": "stdout",
     "output_type": "stream",
     "text": [
      "Insert 10000 rows successfully to Database\n"
     ]
    }
   ],
   "source": [
    "p = 20\n",
    "TE = 1\n",
    "data,weight_array = gen_data_db(n = 10000,p = p, TE = TE)\n",
    "holdout,weight_array = gen_data_db(n = 10000,p = p, TE = TE)    \n",
    "insert_data_to_db(\"test_df\", # The name of your table containing the dataset to be matched\n",
    "                    data, \n",
    "                    treatment_column_name= \"Treated\",\n",
    "                    outcome_column_name= 'outcome123',\n",
    "                    select_db = \"postgreSQL\",  # Select the database you are using\n",
    "                    database_name='tmp', # database name\n",
    "                    host = \"localhost\",\n",
    "                    port = \"5432\",\n",
    "                    user=\"newuser\",\n",
    "                    password= \"sunxian123\")\n",
    "\n",
    "\n"
   ]
  },
  {
   "cell_type": "code",
   "execution_count": 3,
   "metadata": {},
   "outputs": [
    {
     "name": "stdout",
     "output_type": "stream",
     "text": [
      "Level1:  Do matching without dropping any covs\n",
      "Level2: No matching after fast drop cov16 with negative mse: -1.2982225784908814\n",
      "Level3: No matching after fast drop cov13 with negative mse: -1.3038152600254715\n",
      "Level4: No matching after fast drop cov10 with negative mse: -1.3052687275848314\n",
      "Level5: No matching after fast drop cov19 with negative mse: -1.3056048765311088\n",
      "Level6: No matching after fast drop cov15 with negative mse: -1.3064493487036988\n",
      "Level7: No matching after fast drop cov9 with negative mse: -1.3082769867115673\n",
      "Level8: No matching after fast drop cov1 with negative mse: -1.3093641486126741\n",
      "Level9: No matching after fast drop cov18 with negative mse: -1.3107819632760953\n",
      "Level10: No matching after fast drop cov11 with negative mse: -1.3110606779731768\n",
      "Level11: No matching after fast drop cov20 with negative mse: -1.3122586270633634\n",
      "Level12: No matching after fast drop cov12 with negative mse: -1.3133770070344473\n",
      "Level13: No matching after fast drop cov14 with negative mse: -1.313463957061499\n",
      "Level14: No matching after fast drop cov8 with negative mse: -1.3146727562126403\n",
      "Level15: No matching after fast drop cov17 with negative mse: -1.315433372269363\n",
      "Level16:Do matching after slow drop cov7 with negative mse: -1.3338541011713367\n",
      " Early stopping: All control units matched\n",
      "Done Matching\n"
     ]
    }
   ],
   "source": [
    "res_post_new = FLAME_db(input_data = \"test_df\", # The name of your table containing the dataset to be matched\n",
    "                    holdout_data = holdout, # holdout set\n",
    "                    treatment_column_name= \"Treated\",\n",
    "                    outcome_column_name= 'outcome123',\n",
    "                    reg_param = 0,\n",
    "                    select_db = \"postgreSQL\",  # Select the database you are using\n",
    "                    database_name='tmp', # database name\n",
    "                    host = \"localhost\",\n",
    "                    port = \"5432\",\n",
    "                    user=\"newuser\",\n",
    "                    password= \"sunxian123\",\n",
    "                    ratio = 0.01   \n",
    "                    )"
   ]
  },
  {
   "cell_type": "code",
   "execution_count": 4,
   "metadata": {},
   "outputs": [
    {
     "data": {
      "text/plain": [
       "1.0258197897522505"
      ]
     },
     "execution_count": 4,
     "metadata": {},
     "output_type": "execute_result"
    }
   ],
   "source": [
    "ATT_db(res_post_new)"
   ]
  },
  {
   "cell_type": "code",
   "execution_count": 5,
   "metadata": {},
   "outputs": [
    {
     "data": {
      "text/plain": [
       "1.026006033254841"
      ]
     },
     "execution_count": 5,
     "metadata": {},
     "output_type": "execute_result"
    }
   ],
   "source": [
    "ATE_db(res_post_new)"
   ]
  },
  {
   "cell_type": "code",
   "execution_count": null,
   "metadata": {},
   "outputs": [],
   "source": []
  }
 ],
 "metadata": {
  "kernelspec": {
   "display_name": "Python 3",
   "language": "python",
   "name": "python3"
  },
  "language_info": {
   "codemirror_mode": {
    "name": "ipython",
    "version": 3
   },
   "file_extension": ".py",
   "mimetype": "text/x-python",
   "name": "python",
   "nbconvert_exporter": "python",
   "pygments_lexer": "ipython3",
   "version": "3.8.3"
  }
 },
 "nbformat": 4,
 "nbformat_minor": 4
}
